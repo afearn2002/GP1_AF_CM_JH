{
 "cells": [
  {
   "cell_type": "markdown",
   "id": "90c84cde",
   "metadata": {},
   "source": [
    "# Fitness Tracker - Aidan, Corey and Jackson"
   ]
  },
  {
   "cell_type": "code",
   "execution_count": 1,
   "id": "2b0b7c17",
   "metadata": {},
   "outputs": [
    {
     "name": "stdout",
     "output_type": "stream",
     "text": [
      "Enter your weight in pounds: 225\n",
      "Enter your height in feet: 6.2\n",
      "Enter your age: 21\n",
      "Enter your gender (Male/Female): Male\n",
      "Enter the distance of your run in miles: 3\n",
      "Enter the duration of your run in minutes: 15\n",
      "Enter your calorie goal: 400\n",
      "Your BMI: 28.58\n",
      "Calories Burned: 118.22 calories\n",
      "Keep going! You haven't reached your calorie goal yet.\n",
      "Average Pace: 5.00 minutes per mile\n"
     ]
    }
   ],
   "source": [
    "class FitnessTracker:\n",
    "    def __init__(self, weight_pounds, height_feet, age, gender):\n",
    "        # Constructor initializes the object with user input\n",
    "        self.weight_pounds = weight_pounds\n",
    "        self.height_feet = height_feet\n",
    "        self.age = age\n",
    "        # Convert gender to lowercase for case-insensitive comparison\n",
    "        self.gender = gender.lower() \n",
    "\n",
    "    def calculate_bmi(self):\n",
    "        # Calculate BMI using the formula: weight (lb) / (height (in) ^ 2) * 703\n",
    "        height_inches = self.height_feet * 12\n",
    "        bmi = (self.weight_pounds / (height_inches ** 2)) * 703\n",
    "        return bmi\n",
    "\n",
    "    def calculate_calories_burned(self, distance_miles, duration_minutes):\n",
    "        # Calculate Basal Metabolic Rate (BMR) based on gender\n",
    "        if self.gender == 'male':\n",
    "            bmr = 66 + (6.23 * self.weight_pounds) + (12.7 * (self.height_feet * 12)) - (6.8 * self.age)\n",
    "        elif self.gender == 'female':\n",
    "            bmr = 655 + (4.35 * self.weight_pounds) + (4.7 * (self.height_feet * 12)) - (4.7 * self.age)\n",
    "\n",
    "        # Calculate calories burned using BMR and activity factor\n",
    "        calories_burned = bmr / 24 * duration_minutes / 60 * 5\n",
    "        return calories_burned\n",
    "\n",
    "    def calculate_average_pace(self, distance_miles, duration_minutes):\n",
    "        # Calculate average pace (minutes per mile)\n",
    "        average_pace = duration_minutes / distance_miles\n",
    "        return average_pace\n",
    "\n",
    "# Main program\n",
    "if __name__ == \"__main__\":\n",
    "    # Get user input for personal information and workout details\n",
    "    weight = float(input(\"Enter your weight in pounds: \"))\n",
    "    height = float(input(\"Enter your height in feet: \"))\n",
    "    age = int(input(\"Enter your age: \"))\n",
    "    gender = input(\"Enter your gender (Male/Female): \")\n",
    "    distance = float(input(\"Enter the distance of your run in miles: \"))\n",
    "    duration = float(input(\"Enter the duration of your run in minutes: \"))\n",
    "    calorie_goal = float(input(\"Enter your calorie goal: \"))\n",
    "\n",
    "    # Create an instance of FitnessTracker\n",
    "    tracker = FitnessTracker(weight, height, age, gender)\n",
    "    \n",
    "    # Calculate and display BMI, calories burned, and average pace\n",
    "    bmi = tracker.calculate_bmi()\n",
    "    calories_burned = tracker.calculate_calories_burned(distance, duration)\n",
    "    average_pace = tracker.calculate_average_pace(distance, duration)\n",
    "\n",
    "    print(f\"Your BMI: {bmi:.2f}\")\n",
    "    print(f\"Calories Burned: {calories_burned:.2f} calories\")\n",
    "\n",
    "    # Check if calorie goal is reached and provide appropriate message\n",
    "    if calories_burned >= calorie_goal:\n",
    "        print(\"Congratulations! You've reached your calorie goal.\")\n",
    "    else:\n",
    "        print(\"Keep going! You haven't reached your calorie goal yet.\")\n",
    "\n",
    "    print(f\"Average Pace: {average_pace:.2f} minutes per mile\")\n"
   ]
  }
 ],
 "metadata": {
  "kernelspec": {
   "display_name": "Python 3 (ipykernel)",
   "language": "python",
   "name": "python3"
  },
  "language_info": {
   "codemirror_mode": {
    "name": "ipython",
    "version": 3
   },
   "file_extension": ".py",
   "mimetype": "text/x-python",
   "name": "python",
   "nbconvert_exporter": "python",
   "pygments_lexer": "ipython3",
   "version": "3.11.4"
  }
 },
 "nbformat": 4,
 "nbformat_minor": 5
}
